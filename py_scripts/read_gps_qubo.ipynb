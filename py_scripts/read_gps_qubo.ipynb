{
 "cells": [
  {
   "cell_type": "code",
   "execution_count": 1,
   "id": "f90a3a1d",
   "metadata": {},
   "outputs": [],
   "source": [
    "import pandas as pd "
   ]
  },
  {
   "cell_type": "code",
   "execution_count": 4,
   "id": "7e19ba58",
   "metadata": {},
   "outputs": [],
   "source": [
    "gps_folder = r\"D:\\suryan\\Databases\\Gps\""
   ]
  },
  {
   "cell_type": "code",
   "execution_count": 18,
   "id": "7388afe7",
   "metadata": {},
   "outputs": [],
   "source": [
    "import os\n",
    "\n",
    "# List all .gps files in the folder\n",
    "gps_files = [f for f in os.listdir(gps_folder) if f.endswith('.gps') and f.startswith('G_')]\n",
    "\n",
    "# Read each .gps file as a tab-separated dataframe and store in a list\n",
    "dfs = [pd.read_csv(os.path.join(gps_folder, file), sep='\\t', header=None) for file in gps_files]\n"
   ]
  },
  {
   "cell_type": "code",
   "execution_count": null,
   "id": "b0e7059d",
   "metadata": {},
   "outputs": [],
   "source": [
    "# Concat dfs list of pandas dataframe \n",
    "df_all = pd.concat(dfs, ignore_index=True)\n"
   ]
  },
  {
   "cell_type": "code",
   "execution_count": 20,
   "id": "83898784",
   "metadata": {},
   "outputs": [
    {
     "data": {
      "text/plain": [
       "(12224, 8)"
      ]
     },
     "execution_count": 20,
     "metadata": {},
     "output_type": "execute_result"
    }
   ],
   "source": [
    "df_all.shape"
   ]
  },
  {
   "cell_type": "code",
   "execution_count": 22,
   "id": "baf961fa",
   "metadata": {},
   "outputs": [
    {
     "data": {
      "text/html": [
       "<div>\n",
       "<style scoped>\n",
       "    .dataframe tbody tr th:only-of-type {\n",
       "        vertical-align: middle;\n",
       "    }\n",
       "\n",
       "    .dataframe tbody tr th {\n",
       "        vertical-align: top;\n",
       "    }\n",
       "\n",
       "    .dataframe thead th {\n",
       "        text-align: right;\n",
       "    }\n",
       "</style>\n",
       "<table border=\"1\" class=\"dataframe\">\n",
       "  <thead>\n",
       "    <tr style=\"text-align: right;\">\n",
       "      <th></th>\n",
       "      <th>0</th>\n",
       "      <th>1</th>\n",
       "      <th>2</th>\n",
       "      <th>3</th>\n",
       "      <th>4</th>\n",
       "      <th>5</th>\n",
       "      <th>6</th>\n",
       "      <th>7</th>\n",
       "    </tr>\n",
       "  </thead>\n",
       "  <tbody>\n",
       "    <tr>\n",
       "      <th>0</th>\n",
       "      <td>T-1758934158301</td>\n",
       "      <td>LT-N12.838944</td>\n",
       "      <td>LG-E77.676806</td>\n",
       "      <td>D-0.000000</td>\n",
       "      <td>S-1</td>\n",
       "      <td>DS-2.847937</td>\n",
       "      <td>pDS-0.000000</td>\n",
       "      <td>Alt-941.700000</td>\n",
       "    </tr>\n",
       "    <tr>\n",
       "      <th>1</th>\n",
       "      <td>T-1758934203435</td>\n",
       "      <td>LT-N12.839128</td>\n",
       "      <td>LG-E77.676827</td>\n",
       "      <td>D-41.780000</td>\n",
       "      <td>S-10</td>\n",
       "      <td>DS-2.868600</td>\n",
       "      <td>pDS-0.020664</td>\n",
       "      <td>Alt-928.800000</td>\n",
       "    </tr>\n",
       "    <tr>\n",
       "      <th>2</th>\n",
       "      <td>T-1758934214618</td>\n",
       "      <td>LT-N12.839009</td>\n",
       "      <td>LG-E77.676993</td>\n",
       "      <td>D-152.050000</td>\n",
       "      <td>S-21</td>\n",
       "      <td>DS-2.890960</td>\n",
       "      <td>pDS-0.043024</td>\n",
       "      <td>Alt-910.300000</td>\n",
       "    </tr>\n",
       "    <tr>\n",
       "      <th>3</th>\n",
       "      <td>T-1758934218621</td>\n",
       "      <td>LT-N12.838862</td>\n",
       "      <td>LG-E77.677140</td>\n",
       "      <td>D-150.890000</td>\n",
       "      <td>S-19</td>\n",
       "      <td>DS-2.913776</td>\n",
       "      <td>pDS-0.065839</td>\n",
       "      <td>Alt-907.900000</td>\n",
       "    </tr>\n",
       "    <tr>\n",
       "      <th>4</th>\n",
       "      <td>T-1758934224630</td>\n",
       "      <td>LT-N12.838694</td>\n",
       "      <td>LG-E77.677248</td>\n",
       "      <td>D-158.100000</td>\n",
       "      <td>S-11</td>\n",
       "      <td>DS-2.935861</td>\n",
       "      <td>pDS-0.087924</td>\n",
       "      <td>Alt-908.900000</td>\n",
       "    </tr>\n",
       "  </tbody>\n",
       "</table>\n",
       "</div>"
      ],
      "text/plain": [
       "                 0              1              2             3     4  \\\n",
       "0  T-1758934158301  LT-N12.838944  LG-E77.676806    D-0.000000   S-1   \n",
       "1  T-1758934203435  LT-N12.839128  LG-E77.676827   D-41.780000  S-10   \n",
       "2  T-1758934214618  LT-N12.839009  LG-E77.676993  D-152.050000  S-21   \n",
       "3  T-1758934218621  LT-N12.838862  LG-E77.677140  D-150.890000  S-19   \n",
       "4  T-1758934224630  LT-N12.838694  LG-E77.677248  D-158.100000  S-11   \n",
       "\n",
       "             5             6               7  \n",
       "0  DS-2.847937  pDS-0.000000  Alt-941.700000  \n",
       "1  DS-2.868600  pDS-0.020664  Alt-928.800000  \n",
       "2  DS-2.890960  pDS-0.043024  Alt-910.300000  \n",
       "3  DS-2.913776  pDS-0.065839  Alt-907.900000  \n",
       "4  DS-2.935861  pDS-0.087924  Alt-908.900000  "
      ]
     },
     "execution_count": 22,
     "metadata": {},
     "output_type": "execute_result"
    }
   ],
   "source": [
    "df_all.head()"
   ]
  },
  {
   "cell_type": "code",
   "execution_count": 30,
   "id": "e9006505",
   "metadata": {},
   "outputs": [],
   "source": [
    "# Format column 0 which contains timestamp in the format 'T-1758934158301'\n",
    "# Remove the 'T-' prefix, convert to integer, then to pandas timestamp\n",
    "df_all['timestamp'] = pd.to_datetime(df_all[0].str.replace('T-', '').astype(int), unit='ms')\n",
    "df_all['timestamp'] = df_all['timestamp'].dt.tz_localize('UTC').dt.tz_convert('Asia/Kolkata')"
   ]
  },
  {
   "cell_type": "code",
   "execution_count": 31,
   "id": "e4a1bcbb",
   "metadata": {},
   "outputs": [],
   "source": [
    "# Extract numeric values from each column and assign proper names\n",
    "df_all['Latitude']  = df_all[1].str.replace('LT-', '').astype(str)\n",
    "df_all['Longitude'] = df_all[2].str.replace('LG-', '').astype(str)\n",
    "df_all['D']         = df_all[3].str.replace('D-', '').astype(float)\n",
    "df_all['Speed']     = df_all[4].str.replace('S-', '').astype(float)\n",
    "df_all['DS']        = df_all[5].str.replace('DS-', '').astype(float)\n",
    "df_all['pDS']       = df_all[6].str.replace('pDS-', '').astype(float)\n",
    "df_all['Altitude']  = df_all[7].str.replace('Alt-', '').astype(float)\n"
   ]
  },
  {
   "cell_type": "code",
   "execution_count": 32,
   "id": "89babc0d",
   "metadata": {},
   "outputs": [],
   "source": [
    "df_all.drop(columns=[0, 1, 2, 3, 4, 5, 6, 7], inplace=True)"
   ]
  },
  {
   "cell_type": "code",
   "execution_count": 33,
   "id": "08692413",
   "metadata": {},
   "outputs": [
    {
     "data": {
      "text/html": [
       "<div>\n",
       "<style scoped>\n",
       "    .dataframe tbody tr th:only-of-type {\n",
       "        vertical-align: middle;\n",
       "    }\n",
       "\n",
       "    .dataframe tbody tr th {\n",
       "        vertical-align: top;\n",
       "    }\n",
       "\n",
       "    .dataframe thead th {\n",
       "        text-align: right;\n",
       "    }\n",
       "</style>\n",
       "<table border=\"1\" class=\"dataframe\">\n",
       "  <thead>\n",
       "    <tr style=\"text-align: right;\">\n",
       "      <th></th>\n",
       "      <th>timestamp</th>\n",
       "      <th>Latitude</th>\n",
       "      <th>Longitude</th>\n",
       "      <th>D</th>\n",
       "      <th>Speed</th>\n",
       "      <th>DS</th>\n",
       "      <th>pDS</th>\n",
       "      <th>Altitude</th>\n",
       "    </tr>\n",
       "  </thead>\n",
       "  <tbody>\n",
       "    <tr>\n",
       "      <th>0</th>\n",
       "      <td>2025-09-27 06:19:18.301000+05:30</td>\n",
       "      <td>N12.838944</td>\n",
       "      <td>E77.676806</td>\n",
       "      <td>0.00</td>\n",
       "      <td>1.0</td>\n",
       "      <td>2.847937</td>\n",
       "      <td>0.000000</td>\n",
       "      <td>941.7</td>\n",
       "    </tr>\n",
       "    <tr>\n",
       "      <th>1</th>\n",
       "      <td>2025-09-27 06:20:03.435000+05:30</td>\n",
       "      <td>N12.839128</td>\n",
       "      <td>E77.676827</td>\n",
       "      <td>41.78</td>\n",
       "      <td>10.0</td>\n",
       "      <td>2.868600</td>\n",
       "      <td>0.020664</td>\n",
       "      <td>928.8</td>\n",
       "    </tr>\n",
       "    <tr>\n",
       "      <th>2</th>\n",
       "      <td>2025-09-27 06:20:14.618000+05:30</td>\n",
       "      <td>N12.839009</td>\n",
       "      <td>E77.676993</td>\n",
       "      <td>152.05</td>\n",
       "      <td>21.0</td>\n",
       "      <td>2.890960</td>\n",
       "      <td>0.043024</td>\n",
       "      <td>910.3</td>\n",
       "    </tr>\n",
       "    <tr>\n",
       "      <th>3</th>\n",
       "      <td>2025-09-27 06:20:18.621000+05:30</td>\n",
       "      <td>N12.838862</td>\n",
       "      <td>E77.677140</td>\n",
       "      <td>150.89</td>\n",
       "      <td>19.0</td>\n",
       "      <td>2.913776</td>\n",
       "      <td>0.065839</td>\n",
       "      <td>907.9</td>\n",
       "    </tr>\n",
       "    <tr>\n",
       "      <th>4</th>\n",
       "      <td>2025-09-27 06:20:24.630000+05:30</td>\n",
       "      <td>N12.838694</td>\n",
       "      <td>E77.677248</td>\n",
       "      <td>158.10</td>\n",
       "      <td>11.0</td>\n",
       "      <td>2.935861</td>\n",
       "      <td>0.087924</td>\n",
       "      <td>908.9</td>\n",
       "    </tr>\n",
       "  </tbody>\n",
       "</table>\n",
       "</div>"
      ],
      "text/plain": [
       "                         timestamp    Latitude   Longitude       D  Speed  \\\n",
       "0 2025-09-27 06:19:18.301000+05:30  N12.838944  E77.676806    0.00    1.0   \n",
       "1 2025-09-27 06:20:03.435000+05:30  N12.839128  E77.676827   41.78   10.0   \n",
       "2 2025-09-27 06:20:14.618000+05:30  N12.839009  E77.676993  152.05   21.0   \n",
       "3 2025-09-27 06:20:18.621000+05:30  N12.838862  E77.677140  150.89   19.0   \n",
       "4 2025-09-27 06:20:24.630000+05:30  N12.838694  E77.677248  158.10   11.0   \n",
       "\n",
       "         DS       pDS  Altitude  \n",
       "0  2.847937  0.000000     941.7  \n",
       "1  2.868600  0.020664     928.8  \n",
       "2  2.890960  0.043024     910.3  \n",
       "3  2.913776  0.065839     907.9  \n",
       "4  2.935861  0.087924     908.9  "
      ]
     },
     "execution_count": 33,
     "metadata": {},
     "output_type": "execute_result"
    }
   ],
   "source": [
    "df_all.head()"
   ]
  },
  {
   "cell_type": "code",
   "execution_count": 34,
   "id": "e076cc29",
   "metadata": {},
   "outputs": [
    {
     "data": {
      "text/plain": [
       "count    12224.000000\n",
       "mean        67.524787\n",
       "std         25.332217\n",
       "min          0.000000\n",
       "25%         48.000000\n",
       "50%         74.000000\n",
       "75%         86.000000\n",
       "max        128.000000\n",
       "Name: Speed, dtype: float64"
      ]
     },
     "execution_count": 34,
     "metadata": {},
     "output_type": "execute_result"
    }
   ],
   "source": [
    "df_all['Speed'].describe()"
   ]
  },
  {
   "cell_type": "code",
   "execution_count": 35,
   "id": "bf4dc3da",
   "metadata": {},
   "outputs": [
    {
     "name": "stdout",
     "output_type": "stream",
     "text": [
      "Timestamp with max speed: 2025-09-27 09:37:50.993000+05:30\n",
      "Max speed: 128.0\n"
     ]
    }
   ],
   "source": [
    "max_speed_row = df_all.loc[df_all['Speed'].idxmax()]\n",
    "print(\"Timestamp with max speed:\", max_speed_row['timestamp'])\n",
    "print(\"Max speed:\", max_speed_row['Speed'])"
   ]
  },
  {
   "cell_type": "code",
   "execution_count": 38,
   "id": "393aad07",
   "metadata": {},
   "outputs": [
    {
     "name": "stdout",
     "output_type": "stream",
     "text": [
      "                            timestamp    Latitude   Longitude       D  Speed  \\\n",
      "6172 2025-09-27 09:37:50.993000+05:30  N12.280106  E78.878227   85.10  128.0   \n",
      "6171 2025-09-27 09:37:49.991000+05:30  N12.280080  E78.877907   85.17  127.0   \n",
      "4399 2025-09-27 09:00:18.268000+05:30  N12.309305  E78.493693  155.24  127.0   \n",
      "7879 2025-09-27 10:21:30.091000+05:30  N12.038217  E79.148835  159.91  127.0   \n",
      "6170 2025-09-27 09:37:48.984000+05:30  N12.280053  E78.877583   85.38  126.0   \n",
      "7877 2025-09-27 10:21:28.088000+05:30  N12.038814  E79.148612  159.71  126.0   \n",
      "4398 2025-09-27 09:00:17.267000+05:30  N12.309594  E78.493558  155.43  126.0   \n",
      "7878 2025-09-27 10:21:29.090000+05:30  N12.038517  E79.148723  160.01  126.0   \n",
      "6169 2025-09-27 09:37:47.981000+05:30  N12.280026  E78.877261   85.61  125.0   \n",
      "4658 2025-09-27 09:05:13.420000+05:30  N12.274483  E78.538831  118.18  125.0   \n",
      "4657 2025-09-27 09:05:12.364000+05:30  N12.274633  E78.538550  119.02  125.0   \n",
      "7880 2025-09-27 10:21:31.094000+05:30  N12.037920  E79.148946  159.77  125.0   \n",
      "4400 2025-09-27 09:00:19.270000+05:30  N12.309023  E78.493823  155.16  125.0   \n",
      "7876 2025-09-27 10:21:27.087000+05:30  N12.039109  E79.148500  159.44  125.0   \n",
      "6173 2025-09-27 09:37:51.994000+05:30  N12.280129  E78.878539   85.25  124.0   \n",
      "4656 2025-09-27 09:05:11.363000+05:30  N12.274784  E78.538273  119.23  124.0   \n",
      "4397 2025-09-27 09:00:16.265000+05:30  N12.309884  E78.493425  155.92  124.0   \n",
      "7875 2025-09-27 10:21:26.085000+05:30  N12.039402  E79.148388  159.11  124.0   \n",
      "7899 2025-09-27 10:21:50.150000+05:30  N12.032683  E79.150924  159.76  123.0   \n",
      "5819 2025-09-27 09:30:39.231000+05:30  N12.297473  E78.800662   61.49  123.0   \n",
      "\n",
      "              DS       pDS  Altitude  \n",
      "6172  164.670392  1.158792     250.9  \n",
      "6171  164.635497  1.123897     250.7  \n",
      "4399  117.321253  3.605395     380.8  \n",
      "7879   21.090166  3.365092     127.9  \n",
      "6170  164.600130  1.088531     250.5  \n",
      "7877   21.019504  3.294430     127.9  \n",
      "4398  117.286010  3.570152     382.0  \n",
      "7878   21.054725  3.329650     127.9  \n",
      "6169  164.565042  1.053442     250.6  \n",
      "4658  124.320650  1.897491     345.4  \n",
      "4657  124.285900  1.862741     345.6  \n",
      "7880   21.125369  3.400294     127.9  \n",
      "4400  117.355722  3.639865     379.9  \n",
      "7876   20.984490  3.259415     128.0  \n",
      "6173  164.704347  1.192747     251.0  \n",
      "4656  124.251362  1.828203     345.9  \n",
      "4397  117.250676  3.534819     383.3  \n",
      "7875   20.949717  3.224642     128.2  \n",
      "7899   21.746165  4.021090     124.7  \n",
      "5819  155.377396  3.954008     279.8  \n"
     ]
    }
   ],
   "source": [
    "top_20_speed = df_all.sort_values(by='Speed', ascending=False).head(20)\n",
    "print(top_20_speed)"
   ]
  }
 ],
 "metadata": {
  "kernelspec": {
   "display_name": "problemsolving",
   "language": "python",
   "name": "python3"
  },
  "language_info": {
   "codemirror_mode": {
    "name": "ipython",
    "version": 3
   },
   "file_extension": ".py",
   "mimetype": "text/x-python",
   "name": "python",
   "nbconvert_exporter": "python",
   "pygments_lexer": "ipython3",
   "version": "3.12.2"
  }
 },
 "nbformat": 4,
 "nbformat_minor": 5
}
