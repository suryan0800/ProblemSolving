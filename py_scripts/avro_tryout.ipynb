{
 "cells": [
  {
   "cell_type": "code",
   "execution_count": 6,
   "id": "1f698989",
   "metadata": {},
   "outputs": [],
   "source": [
    "import avro.schema\n",
    "from avro.datafile import DataFileWriter, DataFileReader\n",
    "from avro.io import DatumWriter, DatumReader\n"
   ]
  },
  {
   "cell_type": "code",
   "execution_count": 2,
   "id": "21be1883",
   "metadata": {},
   "outputs": [],
   "source": [
    "\n",
    "# Define the schema file path\n",
    "schema_path = \"user.avsc\"\n"
   ]
  },
  {
   "cell_type": "code",
   "execution_count": 18,
   "id": "d50dd940",
   "metadata": {},
   "outputs": [],
   "source": [
    "\n",
    "# Load Avro schema\n",
    "with open(schema_path, \"r\") as schema_file:\n",
    "    schema = avro.schema.parse(schema_file.read())\n",
    "\n",
    "# Data to write\n",
    "user_data = {\"name\": \"Alice\", \"favorite_number\": 42, \"favorite_color\": \"blue\"}\n",
    "\n",
    "# Write data to Avro file\n",
    "with open(\"user2.avro\", \"wb\") as out_file:\n",
    "    writer = DataFileWriter(out_file, DatumWriter(), schema)\n",
    "    writer.append(user_data)\n",
    "    writer.close()\n"
   ]
  },
  {
   "cell_type": "code",
   "execution_count": 19,
   "id": "4145f936",
   "metadata": {},
   "outputs": [
    {
     "name": "stdout",
     "output_type": "stream",
     "text": [
      "{'name': 'Alice', 'favorite_number': 42, 'favorite_color': 'blue'}\n"
     ]
    }
   ],
   "source": [
    "\n",
    "# Read data back from Avro file\n",
    "with open(\"user2.avro\", \"rb\") as in_file:\n",
    "    reader = avro.datafile.DataFileReader(in_file, avro.io.DatumReader())\n",
    "    for user in reader:\n",
    "        print(user)\n",
    "    reader.close()"
   ]
  }
 ],
 "metadata": {
  "kernelspec": {
   "display_name": "problemsolving",
   "language": "python",
   "name": "python3"
  },
  "language_info": {
   "codemirror_mode": {
    "name": "ipython",
    "version": 3
   },
   "file_extension": ".py",
   "mimetype": "text/x-python",
   "name": "python",
   "nbconvert_exporter": "python",
   "pygments_lexer": "ipython3",
   "version": "3.12.2"
  }
 },
 "nbformat": 4,
 "nbformat_minor": 5
}
